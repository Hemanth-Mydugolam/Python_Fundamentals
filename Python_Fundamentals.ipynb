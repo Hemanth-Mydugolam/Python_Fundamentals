{
 "cells": [
  {
   "cell_type": "markdown",
   "id": "6f16e771",
   "metadata": {},
   "source": [
    "## Python Fundamentals"
   ]
  },
  {
   "cell_type": "markdown",
   "id": "195e7edf",
   "metadata": {},
   "source": [
    "### Python Repositories and Parsing arguments to the python file"
   ]
  },
  {
   "cell_type": "code",
   "execution_count": 1,
   "id": "ffaaa24a",
   "metadata": {},
   "outputs": [
    {
     "name": "stdout",
     "output_type": "stream",
     "text": [
      "Python 3.11.5\r\n"
     ]
    }
   ],
   "source": [
    "# python version\n",
    "!python --version"
   ]
  },
  {
   "cell_type": "code",
   "execution_count": 2,
   "id": "4f267a91",
   "metadata": {},
   "outputs": [
    {
     "name": "stdout",
     "output_type": "stream",
     "text": [
      "pip 23.2.1 from /Users/hemanth/anaconda3/lib/python3.11/site-packages/pip (python 3.11)\n",
      "Note: you may need to restart the kernel to use updated packages.\n"
     ]
    }
   ],
   "source": [
    "pip --version"
   ]
  },
  {
   "cell_type": "code",
   "execution_count": 3,
   "id": "6264c3d9",
   "metadata": {},
   "outputs": [
    {
     "name": "stdout",
     "output_type": "stream",
     "text": [
      "Hello World!\n",
      "Hello World!\n"
     ]
    }
   ],
   "source": [
    "# argument must be an object with a write(string) method; if it is not present or None, sys.stdout will be used\n",
    "print('Hello World!')  \n",
    "print(\"{} {}!\".format(\"Hello\", \"World\"))"
   ]
  },
  {
   "cell_type": "code",
   "execution_count": 4,
   "id": "ba5e6e57",
   "metadata": {},
   "outputs": [
    {
     "name": "stdout",
     "output_type": "stream",
     "text": [
      "P3.115\n",
      "Python3.11.5\n"
     ]
    }
   ],
   "source": [
    "print(\"P{}\".format(3.115))\n",
    "print(\"P{}{}\".format(\"ython\",\"3.11.5\"))"
   ]
  },
  {
   "cell_type": "code",
   "execution_count": 5,
   "id": "b57db8df",
   "metadata": {},
   "outputs": [
    {
     "name": "stdout",
     "output_type": "stream",
     "text": [
      "hello - world\n"
     ]
    }
   ],
   "source": [
    "temp1 = 'hello'\n",
    "temp2 = 'world'\n",
    "# more on f'strings': https://realpython.com/python-f-strings/\n",
    "print(f'{temp1} - {temp2}') "
   ]
  },
  {
   "cell_type": "code",
   "execution_count": 6,
   "id": "0b5fb0e1",
   "metadata": {},
   "outputs": [
    {
     "name": "stdout",
     "output_type": "stream",
     "text": [
      "Help on built-in function print in module builtins:\n",
      "\n",
      "print(*args, sep=' ', end='\\n', file=None, flush=False)\n",
      "    Prints the values to a stream, or to sys.stdout by default.\n",
      "    \n",
      "    sep\n",
      "      string inserted between values, default a space.\n",
      "    end\n",
      "      string appended after the last value, default a newline.\n",
      "    file\n",
      "      a file-like object (stream); defaults to the current sys.stdout.\n",
      "    flush\n",
      "      whether to forcibly flush the stream.\n",
      "\n"
     ]
    }
   ],
   "source": [
    "# help is used to fetch the documentation about the modules, classes, functions and other objs\n",
    "help(print)"
   ]
  },
  {
   "cell_type": "code",
   "execution_count": 7,
   "id": "031c5c9e",
   "metadata": {},
   "outputs": [
    {
     "name": "stdout",
     "output_type": "stream",
     "text": [
      "5\r\n"
     ]
    }
   ],
   "source": [
    "# invoking the python interpreter\n",
    "# here we see python running in terminal using f'strings'\n",
    "!python -c \"print(f'{2+3}')\""
   ]
  },
  {
   "cell_type": "code",
   "execution_count": 8,
   "id": "0734aae8",
   "metadata": {},
   "outputs": [
    {
     "name": "stdout",
     "output_type": "stream",
     "text": [
      "Hello Hemanth! You are 25 years old.\r\n"
     ]
    }
   ],
   "source": [
    "# this is very essential when running scripts from terminal\n",
    "!python custom_mod.py --name Hemanth --age 25"
   ]
  },
  {
   "cell_type": "markdown",
   "id": "ed038140",
   "metadata": {},
   "source": [
    "### Variables"
   ]
  },
  {
   "cell_type": "code",
   "execution_count": 9,
   "id": "6364128b",
   "metadata": {},
   "outputs": [
    {
     "name": "stdout",
     "output_type": "stream",
     "text": [
      "8\n",
      "16\n",
      "fourfour\n",
      "[4, 4]\n"
     ]
    }
   ],
   "source": [
    "# simple python operations and dealing with text and numerical data\n",
    "x = 4 \n",
    "print(x*2)\n",
    "print(x**2)\n",
    "x = \"four\"\n",
    "print(x*2)\n",
    "x = [4]\n",
    "print(x*2)  # observer how diff datatypes have diff results"
   ]
  },
  {
   "cell_type": "code",
   "execution_count": 10,
   "id": "b86c7046",
   "metadata": {},
   "outputs": [
    {
     "data": {
      "text/plain": [
       "'\\nLets look at more;\\nnum operations\\n'"
      ]
     },
     "execution_count": 10,
     "metadata": {},
     "output_type": "execute_result"
    }
   ],
   "source": [
    "# comments in python\n",
    "'''\n",
    "Lets look at more;\n",
    "num operations\n",
    "'''"
   ]
  },
  {
   "cell_type": "code",
   "execution_count": 11,
   "id": "fe7cf0c7",
   "metadata": {},
   "outputs": [
    {
     "name": "stdout",
     "output_type": "stream",
     "text": [
      "\n",
      "Lets look at more;\n",
      "num operations\n",
      "\n"
     ]
    }
   ],
   "source": [
    "x = '''\n",
    "Lets look at more;\n",
    "num operations\n",
    "'''\n",
    "print(x)"
   ]
  },
  {
   "cell_type": "code",
   "execution_count": 12,
   "id": "8b2817dc",
   "metadata": {},
   "outputs": [
    {
     "data": {
      "text/plain": [
       "0"
      ]
     },
     "execution_count": 12,
     "metadata": {},
     "output_type": "execute_result"
    }
   ],
   "source": [
    "1*0"
   ]
  },
  {
   "cell_type": "code",
   "execution_count": 13,
   "id": "c5b32838",
   "metadata": {},
   "outputs": [
    {
     "ename": "ZeroDivisionError",
     "evalue": "division by zero",
     "output_type": "error",
     "traceback": [
      "\u001b[0;31m---------------------------------------------------------------------------\u001b[0m",
      "\u001b[0;31mZeroDivisionError\u001b[0m                         Traceback (most recent call last)",
      "Cell \u001b[0;32mIn[13], line 1\u001b[0m\n\u001b[0;32m----> 1\u001b[0m \u001b[38;5;28mprint\u001b[39m(\u001b[38;5;241m1\u001b[39m\u001b[38;5;241m/\u001b[39m\u001b[38;5;241m0\u001b[39m)\n",
      "\u001b[0;31mZeroDivisionError\u001b[0m: division by zero"
     ]
    }
   ],
   "source": [
    "print(1/0)"
   ]
  },
  {
   "cell_type": "code",
   "execution_count": 14,
   "id": "a8377188",
   "metadata": {},
   "outputs": [
    {
     "name": "stdout",
     "output_type": "stream",
     "text": [
      "division by zero\n"
     ]
    }
   ],
   "source": [
    "# more on exception handling towards the end of the session\n",
    "try:\n",
    "    1/0\n",
    "except:\n",
    "    print(\"division by zero\") "
   ]
  },
  {
   "cell_type": "code",
   "execution_count": 15,
   "id": "224695f3",
   "metadata": {},
   "outputs": [
    {
     "name": "stdout",
     "output_type": "stream",
     "text": [
      "Addition: 30\n",
      "Subtraction: 20\n",
      "Multiplication: 125\n",
      "Division: 5.0\n",
      "Floor Divison: 4\n",
      "Power: 625\n",
      "XOR: 7\n"
     ]
    }
   ],
   "source": [
    "# operations\n",
    "num1 = 25\n",
    "num2 = 5\n",
    "print(\"Addition:\", num1+num2)\n",
    "print(\"Subtraction:\", num1-num2)\n",
    "print(\"Multiplication:\", num1*num2)\n",
    "print(\"Division:\", num1/num2)\n",
    "print(\"Floor Divison:\", 14//3)  # more like floor division\n",
    "print(\"Power:\", num1**2)\n",
    "print(\"XOR:\", 4^3)  # this is a bitwise XOR operator\n",
    "# 100   (binary representation of 4)\n",
    "# 011   (binary representation of 3)\n",
    "# 111   (result of bitwise XOR) which is 7"
   ]
  },
  {
   "cell_type": "code",
   "execution_count": 16,
   "id": "a6a30bc2",
   "metadata": {},
   "outputs": [
    {
     "name": "stdout",
     "output_type": "stream",
     "text": [
      "-81.0\n"
     ]
    }
   ],
   "source": [
    " # python follows BODMAS for all the math\n",
    "x, y = 3, 4\n",
    "print(x + y*(y-x)**x/y % y * x // y + ((x+x**2) / (x-y) * (x+y))) "
   ]
  },
  {
   "cell_type": "markdown",
   "id": "d9b1ef57",
   "metadata": {},
   "source": [
    "### Data Types in Python"
   ]
  },
  {
   "cell_type": "code",
   "execution_count": 17,
   "id": "f87ce518",
   "metadata": {},
   "outputs": [
    {
     "name": "stdout",
     "output_type": "stream",
     "text": [
      "<class 'str'> <class 'int'> <class 'bool'> <class 'float'> <class 'complex'>\n",
      "<class 'list'>\n",
      "{1, 2, 3, 4, 5, 6, 7, 8, 9}\n",
      "<class 'set'>\n",
      "<class 'tuple'>\n",
      "<class 'dict'>\n"
     ]
    }
   ],
   "source": [
    "x = 'string'\n",
    "y = 10\n",
    "z = False\n",
    "z1 = 4.0\n",
    "z2 = 5-17j\n",
    "print(type(x), type(y), type(z), type(z1), type(z2))\n",
    "\n",
    "_list = [1, 2, 3, 4, 5,6,7]\n",
    "print(type(_list))\n",
    "\n",
    "_set = {1,2,3,4,5,6,7,8,9,1}\n",
    "print(_set)\n",
    "print(type(_set))\n",
    "\n",
    "_tuple = (1, 2, 3, 4, 5,6)\n",
    "print(type(_tuple))\n",
    "\n",
    "_dict = {'a':1, 'b':2, 'c':3, 'd':4}\n",
    "print(type(_dict))"
   ]
  },
  {
   "cell_type": "markdown",
   "id": "f6b89f15",
   "metadata": {},
   "source": [
    "### String and its operations"
   ]
  },
  {
   "cell_type": "code",
   "execution_count": 18,
   "id": "5292feac",
   "metadata": {},
   "outputs": [
    {
     "name": "stdout",
     "output_type": "stream",
     "text": [
      "pythonpython\n",
      "pythonpythonpython\n"
     ]
    }
   ],
   "source": [
    "# A string can be added to another string\n",
    "x = \"python\"\n",
    "print(x+x)\n",
    "print(x*3)"
   ]
  },
  {
   "cell_type": "code",
   "execution_count": 19,
   "id": "d6eb2223",
   "metadata": {},
   "outputs": [
    {
     "data": {
      "text/plain": [
       "'p'"
      ]
     },
     "execution_count": 19,
     "metadata": {},
     "output_type": "execute_result"
    }
   ],
   "source": [
    "# accesing the string by using the indexs\n",
    "x[0]"
   ]
  },
  {
   "cell_type": "code",
   "execution_count": 20,
   "id": "52f3d793",
   "metadata": {},
   "outputs": [
    {
     "data": {
      "text/plain": [
       "'ytho'"
      ]
     },
     "execution_count": 20,
     "metadata": {},
     "output_type": "execute_result"
    }
   ],
   "source": [
    "# [start, end and the step]\n",
    "x[1:-1:1]  "
   ]
  },
  {
   "cell_type": "code",
   "execution_count": 21,
   "id": "28b9959f",
   "metadata": {},
   "outputs": [
    {
     "data": {
      "text/plain": [
       "'nohtyp'"
      ]
     },
     "execution_count": 21,
     "metadata": {},
     "output_type": "execute_result"
    }
   ],
   "source": [
    "## Reverse the string ##\n",
    "\n",
    "# shallow copy is a new object and then creates references to the original object\n",
    "# where are deep copy creates a new object from the original object\n",
    "x[::-1]  # all of this is a shallow copy"
   ]
  },
  {
   "cell_type": "code",
   "execution_count": 22,
   "id": "1c497e3c",
   "metadata": {},
   "outputs": [
    {
     "data": {
      "text/plain": [
       "6"
      ]
     },
     "execution_count": 22,
     "metadata": {},
     "output_type": "execute_result"
    }
   ],
   "source": [
    "# length of the string\n",
    "len(x)"
   ]
  },
  {
   "cell_type": "code",
   "execution_count": 23,
   "id": "0ab51d1a",
   "metadata": {},
   "outputs": [
    {
     "data": {
      "text/plain": [
       "'Python'"
      ]
     },
     "execution_count": 23,
     "metadata": {},
     "output_type": "execute_result"
    }
   ],
   "source": [
    "# capitalizes a string\n",
    "x.capitalize()"
   ]
  },
  {
   "cell_type": "code",
   "execution_count": 24,
   "id": "e159b523",
   "metadata": {},
   "outputs": [
    {
     "data": {
      "text/plain": [
       "'hemanth'"
      ]
     },
     "execution_count": 24,
     "metadata": {},
     "output_type": "execute_result"
    }
   ],
   "source": [
    "\"HEMANTH\".lower()"
   ]
  },
  {
   "cell_type": "code",
   "execution_count": 25,
   "id": "5533e4f6",
   "metadata": {},
   "outputs": [
    {
     "data": {
      "text/plain": [
       "'python'"
      ]
     },
     "execution_count": 25,
     "metadata": {},
     "output_type": "execute_result"
    }
   ],
   "source": [
    "# casefolding is like .lower() \n",
    "x.capitalize().casefold() "
   ]
  },
  {
   "cell_type": "code",
   "execution_count": 26,
   "id": "386949bd",
   "metadata": {},
   "outputs": [
    {
     "data": {
      "text/plain": [
       "1"
      ]
     },
     "execution_count": 26,
     "metadata": {},
     "output_type": "execute_result"
    }
   ],
   "source": [
    "x.count('n')"
   ]
  },
  {
   "cell_type": "code",
   "execution_count": 27,
   "id": "99ad91c6",
   "metadata": {},
   "outputs": [
    {
     "data": {
      "text/plain": [
       "2"
      ]
     },
     "execution_count": 27,
     "metadata": {},
     "output_type": "execute_result"
    }
   ],
   "source": [
    "\"HEMANTH\".count('H')"
   ]
  },
  {
   "cell_type": "code",
   "execution_count": 28,
   "id": "c1ee732d",
   "metadata": {},
   "outputs": [
    {
     "name": "stdout",
     "output_type": "stream",
     "text": [
      " PYTHON, PROGRAMMING!\n",
      " python, programming!\n",
      "Python, Programming!\n",
      " Nython, Nrogramming!\n",
      "[' Python', ' Programming!']\n"
     ]
    }
   ],
   "source": [
    "x = \" Python, Programming!\"\n",
    "print(x.upper())  # converts String to Uppercase\n",
    "print(x.lower())  # converts String to Lowercase\n",
    "print(x.strip())  # removes white space before and after string\n",
    "print(x.replace(\"P\", \"N\"))  # replaces first character with the second\n",
    "print(x.split(\",\"))  # splits the string and returns the list"
   ]
  },
  {
   "cell_type": "code",
   "execution_count": 29,
   "id": "989d0efb",
   "metadata": {},
   "outputs": [
    {
     "name": "stdout",
     "output_type": "stream",
     "text": [
      "p\n",
      "y\n",
      "t\n",
      "h\n",
      "o\n",
      "n\n"
     ]
    }
   ],
   "source": [
    "_string = \"python\"\n",
    "for i in _string:\n",
    "    print(i)"
   ]
  },
  {
   "cell_type": "code",
   "execution_count": 30,
   "id": "6d118e65",
   "metadata": {},
   "outputs": [
    {
     "name": "stdout",
     "output_type": "stream",
     "text": [
      "y\n",
      "tho\n",
      "noh\n"
     ]
    }
   ],
   "source": [
    "print(_string[1])  # second character in the string\n",
    "print(_string[2:5])\n",
    "print(_string[:-4:-1])"
   ]
  },
  {
   "cell_type": "code",
   "execution_count": 31,
   "id": "13a05b7d",
   "metadata": {},
   "outputs": [
    {
     "name": "stdout",
     "output_type": "stream",
     "text": [
      "True\n",
      "True\n",
      "True\n",
      "True\n"
     ]
    }
   ],
   "source": [
    "# Bolean operations\n",
    "print(1==1)\n",
    "print(10>1)\n",
    "print(10>=10)\n",
    "print(10!=9)"
   ]
  },
  {
   "cell_type": "code",
   "execution_count": 1,
   "id": "ed3b9db4",
   "metadata": {},
   "outputs": [
    {
     "name": "stdout",
     "output_type": "stream",
     "text": [
      "Hemanth Mydugolam\n"
     ]
    }
   ],
   "source": [
    "print(\"Hemanth Mydugolam\")"
   ]
  },
  {
   "cell_type": "markdown",
   "id": "34257145",
   "metadata": {},
   "source": [
    "### List, tuple, set and dictionary operations"
   ]
  },
  {
   "cell_type": "code",
   "execution_count": 9,
   "id": "b834f604",
   "metadata": {},
   "outputs": [
    {
     "name": "stdout",
     "output_type": "stream",
     "text": [
      "['apple', 'banana', 'cherry']\n",
      "Length of fruits_list =  3\n",
      "<class 'list'>\n",
      "<class 'list'>\n",
      "<class 'list'>\n",
      "<class 'list'>\n",
      "['apple', 'banana', 'cherry']\n"
     ]
    }
   ],
   "source": [
    "fruits_list = [\"apple\", \"banana\", \"cherry\"]\n",
    "print(fruits_list)\n",
    "print(\"Length of fruits_list = \",len(fruits_list))\n",
    "# List items can be of any data type\n",
    "list1 = [\"apple\", \"banana\", \"cherry\"]\n",
    "list2 = [1, 5, 7, 9, 3]\n",
    "list3 = [True, False, False]\n",
    "list4 = [\"abc\", 34, True, 40, \"male\"]\n",
    "print(type(list1))\n",
    "print(type(list2))\n",
    "print(type(list3))\n",
    "print(type(list4))\n",
    "\n",
    "# Using the list() constructor to make a List\n",
    "thislist = list((\"apple\", \"banana\", \"cherry\"))\n",
    "print(thislist)\n"
   ]
  },
  {
   "cell_type": "code",
   "execution_count": 12,
   "id": "07c0bec0",
   "metadata": {},
   "outputs": [
    {
     "name": "stdout",
     "output_type": "stream",
     "text": [
      "banana\n",
      "cherry\n",
      "[True, 40]\n",
      "['abc', 34, True, 40]\n",
      "[True, 40, 'male']\n",
      "[34, True, 40]\n"
     ]
    }
   ],
   "source": [
    "# Accessing the lists\n",
    "print(thislist[1])\n",
    "print(thislist[-1])\n",
    "print(list4[2:4])\n",
    "print(list4[:4])\n",
    "print(list4[2:])\n",
    "print(list4[-4:-1])"
   ]
  },
  {
   "cell_type": "code",
   "execution_count": 13,
   "id": "3d44d829",
   "metadata": {},
   "outputs": [
    {
     "name": "stdout",
     "output_type": "stream",
     "text": [
      "Yes, 'apple' is in the fruits list\n"
     ]
    }
   ],
   "source": [
    "# check if exists\n",
    "if \"apple\" in thislist:\n",
    "  print(\"Yes, 'apple' is in the fruits list\")"
   ]
  },
  {
   "cell_type": "code",
   "execution_count": 15,
   "id": "a8b2f88c",
   "metadata": {},
   "outputs": [
    {
     "name": "stdout",
     "output_type": "stream",
     "text": [
      "blackcurrant\n"
     ]
    },
    {
     "data": {
      "text/plain": [
       "['apple', 'blackcurrant', 'cherry']"
      ]
     },
     "execution_count": 15,
     "metadata": {},
     "output_type": "execute_result"
    }
   ],
   "source": [
    "# change values of list\n",
    "print(thislist)\n",
    "thislist[1] = \"blackcurrant\"\n",
    "thislist"
   ]
  },
  {
   "cell_type": "code",
   "execution_count": 17,
   "id": "b74127d8",
   "metadata": {},
   "outputs": [
    {
     "data": {
      "text/plain": [
       "['apple', 'blackcurrant', 'watermelon', 'watermelon', 'cherry']"
      ]
     },
     "execution_count": 17,
     "metadata": {},
     "output_type": "execute_result"
    }
   ],
   "source": [
    "# insert the item\n",
    "thislist.insert(2, \"watermelon\")\n",
    "thislist"
   ]
  },
  {
   "cell_type": "code",
   "execution_count": 18,
   "id": "13239c7d",
   "metadata": {},
   "outputs": [
    {
     "data": {
      "text/plain": [
       "['apple', 'blackcurrant', 'watermelon', 'watermelon', 'cherry', 'orange']"
      ]
     },
     "execution_count": 18,
     "metadata": {},
     "output_type": "execute_result"
    }
   ],
   "source": [
    "# append the item in list\n",
    "thislist.append(\"orange\")\n",
    "thislist"
   ]
  },
  {
   "cell_type": "code",
   "execution_count": 19,
   "id": "9309427b",
   "metadata": {},
   "outputs": [
    {
     "data": {
      "text/plain": [
       "['apple',\n",
       " 'blackcurrant',\n",
       " 'watermelon',\n",
       " 'watermelon',\n",
       " 'cherry',\n",
       " 'orange',\n",
       " 'Butter',\n",
       " 'Milk',\n",
       " 'Shake']"
      ]
     },
     "execution_count": 19,
     "metadata": {},
     "output_type": "execute_result"
    }
   ],
   "source": [
    "# extend the list\n",
    "thislist.extend([\"Butter\",\"Milk\",\"Shake\"])\n",
    "thislist"
   ]
  },
  {
   "cell_type": "code",
   "execution_count": 26,
   "id": "d4a43702",
   "metadata": {},
   "outputs": [
    {
     "name": "stdout",
     "output_type": "stream",
     "text": [
      "['watermelon', 'watermelon', 'orange', 'cherry', 'blackcurrant', 'apple', 'Shake', 'Milk', 'Butter']\n",
      "['Butter', 'Milk', 'Shake', 'apple', 'blackcurrant', 'cherry', 'orange', 'watermelon', 'watermelon']\n",
      "<list_reverseiterator object at 0x1069a28f0>\n"
     ]
    },
    {
     "data": {
      "text/plain": [
       "[1, 2, 3, 4, 5, 6, 7]"
      ]
     },
     "execution_count": 26,
     "metadata": {},
     "output_type": "execute_result"
    }
   ],
   "source": [
    "thislist.reverse()\n",
    "print(thislist)\n",
    "\n",
    "thislist.sort()\n",
    "print(thislist)\n",
    "\n",
    "list1 = [\"cherry\",\"apple\",\"Banana\"]\n",
    "print(reversed([1,2,4,3,7,6,5]))\n",
    "sorted([1,2,4,3,7,6,5])\n"
   ]
  },
  {
   "cell_type": "code",
   "execution_count": 35,
   "id": "8ec0964a",
   "metadata": {},
   "outputs": [
    {
     "name": "stdout",
     "output_type": "stream",
     "text": [
      "['Butter', 'Milk', 'Shake', 'blackcurrant', 'orange', 'watermelon']\n",
      "['Butter', 'Shake', 'blackcurrant', 'orange', 'watermelon']\n",
      "watermelon\n"
     ]
    }
   ],
   "source": [
    "# remove, pop and delete from list \n",
    "print(thislist)\n",
    "thislist.remove(\"Milk\")\n",
    "print(thislist)\n",
    "print(thislist.pop())\n",
    "del thislist\n"
   ]
  },
  {
   "cell_type": "code",
   "execution_count": 37,
   "id": "fea02c1e",
   "metadata": {},
   "outputs": [
    {
     "ename": "NameError",
     "evalue": "name 'thislist' is not defined",
     "output_type": "error",
     "traceback": [
      "\u001b[0;31m---------------------------------------------------------------------------\u001b[0m",
      "\u001b[0;31mNameError\u001b[0m                                 Traceback (most recent call last)",
      "Cell \u001b[0;32mIn[37], line 2\u001b[0m\n\u001b[1;32m      1\u001b[0m \u001b[38;5;66;03m# checking if there exists a list or not\u001b[39;00m\n\u001b[0;32m----> 2\u001b[0m \u001b[43mthislist\u001b[49m\n",
      "\u001b[0;31mNameError\u001b[0m: name 'thislist' is not defined"
     ]
    }
   ],
   "source": [
    "# checking if there exists a list or not\n",
    "thislist"
   ]
  },
  {
   "cell_type": "code",
   "execution_count": 39,
   "id": "ba53edc7",
   "metadata": {},
   "outputs": [
    {
     "name": "stdout",
     "output_type": "stream",
     "text": [
      "['cherry', 'apple', 'Banana']\n",
      "[]\n"
     ]
    }
   ],
   "source": [
    "# clear method to empty the list\n",
    "print(list1)\n",
    "list1.clear()\n",
    "print(list1)"
   ]
  },
  {
   "cell_type": "code",
   "execution_count": 40,
   "id": "10a29b13",
   "metadata": {},
   "outputs": [
    {
     "name": "stdout",
     "output_type": "stream",
     "text": [
      "apple\n",
      "banana\n",
      "cherry\n"
     ]
    }
   ],
   "source": [
    "# looping the list\n",
    "thislist = [\"apple\", \"banana\", \"cherry\"]\n",
    "for i in range(len(thislist)):\n",
    "  print(thislist[i])"
   ]
  },
  {
   "cell_type": "code",
   "execution_count": null,
   "id": "9a268706",
   "metadata": {},
   "outputs": [],
   "source": []
  }
 ],
 "metadata": {
  "kernelspec": {
   "display_name": "Python 3 (ipykernel)",
   "language": "python",
   "name": "python3"
  },
  "language_info": {
   "codemirror_mode": {
    "name": "ipython",
    "version": 3
   },
   "file_extension": ".py",
   "mimetype": "text/x-python",
   "name": "python",
   "nbconvert_exporter": "python",
   "pygments_lexer": "ipython3",
   "version": "3.11.5"
  }
 },
 "nbformat": 4,
 "nbformat_minor": 5
}
